{
 "cells": [
  {
   "cell_type": "markdown",
   "id": "9d03591d",
   "metadata": {},
   "source": [
    "# Task -2 CISCO challenge"
   ]
  },
  {
   "cell_type": "markdown",
   "id": "d6c95632",
   "metadata": {},
   "source": [
    "## Imports"
   ]
  },
  {
   "cell_type": "code",
   "execution_count": 1,
   "id": "1eda3677",
   "metadata": {},
   "outputs": [],
   "source": [
    "# Imports\n",
    "import numpy as np # Support for large arrays and matrices, along with high-level mathematical functions.\n",
    "import seaborn as sns # Graphing/Plotting module.\n",
    "import pandas as pd # CSV handling with operations on tabular data.\n",
    "import hashlib\n",
    "\n",
    "from ast import literal_eval\n",
    "from xgboost import XGBClassifier\n",
    "from sklearn.ensemble import RandomForestClassifier\n",
    "from sklearn.tree import DecisionTreeClassifier\n",
    "from sklearn.datasets import make_classification\n",
    "from sklearn.model_selection import train_test_split\n",
    "from sklearn.metrics import classification_report,confusion_matrix, accuracy_score\n",
    "from sklearn.preprocessing import LabelBinarizer, LabelEncoder, StandardScaler\n",
    "\n",
    "from collections import Counter\n",
    "from utils import save_classification_report"
   ]
  },
  {
   "cell_type": "code",
   "execution_count": 2,
   "id": "12fe24f1",
   "metadata": {},
   "outputs": [],
   "source": [
    "# Preprocessing\n",
    "def preprocess_header_fields(df, process_labels=True):\n",
    "    column_names = ['num_dir_zero', 'num_dir_one', \n",
    "                    'payload_size_max', 'payload_size_min', 'payload_size_mean',\n",
    "                   'delta_time_max', 'delta_time_min', 'delta_time_mean',\n",
    "                   'tws_max', 'tws_min', 'tws_mean']\n",
    "    my_df = pd.DataFrame(columns = column_names)\n",
    "    df['udps.n_bytes_per_packet'] = df['udps.n_bytes_per_packet'].transform(literal_eval)\n",
    "    for index, row in df.iterrows():\n",
    "        phf = row['udps.protocol_header_fields']\n",
    "        phf = literal_eval(phf)\n",
    "        means = np.mean(phf, axis = 0)\n",
    "        maxs = np.amax(phf, axis = 0) \n",
    "        mins = np.amin(phf, axis = 0)\n",
    "        sums = np.sum(phf, axis = 0)\n",
    "        new_row = {'num_dir_zero': 32-sums[0], 'num_dir_one': sums[0],\n",
    "                   'payload_size_max': maxs[1], 'payload_size_min': mins[1], 'payload_size_mean': means[1],\n",
    "                   'delta_time_max': maxs[2], 'delta_time_min': mins[2], 'delta_time_mean': means[2],\n",
    "                   'tws_max': maxs[3], 'tws_min': mins[3], 'tws_mean': means[3]}\n",
    "        my_df = my_df.append(new_row, ignore_index=True)\n",
    "    return my_df\n",
    "def preprocess_stnn_image(df, process_labels=True):\n",
    "    column_names = [\n",
    "        'first_iat_max', 'first_iat_min', 'first_iat_mean', 'first_iat_stddev', 'first_iat_skew', 'first_size_min', 'first_size_max', \n",
    "'first_size_mean', 'first_size_stddev', 'first_size_skew', 'first_num_packets', 'first_num_bytes', 'first_pkts_time', 'first_bytes_time',\n",
    "        'second_iat_max', 'second_iat_min', 'second_iat_mean', 'second_iat_stddev', 'second_iat_skew', 'second_size_min', 'second_size_max', \n",
    "'second_size_mean', 'second_size_stddev', 'second_size_skew', 'second_num_packets', 'second_num_bytes', 'second_pkts_time', 'second_bytes_time',\n",
    "        'third_iat_max', 'third_iat_min', 'third_iat_mean', 'third_iat_stddev', 'third_iat_skew', 'third_size_min', 'third_size_max', \n",
    "'third_size_mean', 'third_size_stddev', 'third_size_skew', 'third_num_packets', 'third_num_bytes', 'third_pkts_time', 'third_bytes_time',\n",
    "        'fourth_iat_max', 'fourth_iat_min', 'fourth_iat_mean', 'fourth_iat_stddev', 'fourth_iat_skew', 'fourth_size_min', 'fourth_size_max', \n",
    "'fourth_size_mean', 'fourth_size_stddev', 'fourth_size_skew', 'fourth_num_packets', 'fourth_num_bytes', 'fourth_pkts_time', 'fourth_bytes_time',\n",
    "        'fifth_iat_max', 'fifth_iat_min', 'fifth_iat_mean', 'fifth_iat_stddev', 'fifth_iat_skew', 'fifth_size_min', 'fifth_size_max', \n",
    "'fifth_size_mean', 'fifth_size_stddev', 'fifth_size_skew', 'fifth_num_packets', 'fifth_num_bytes', 'fifth_pkts_time', 'fifth_bytes_time'\n",
    "    ]\n",
    "    my_df = pd.DataFrame(columns = column_names)\n",
    "    df['udps.stnn_image'] = df['udps.stnn_image'].transform(literal_eval)\n",
    "    for index, row in df.iterrows():\n",
    "        si = row['udps.stnn_image']\n",
    "        new_row = {'first_iat_max': si[0][0], 'first_iat_min': si[0][1], 'first_iat_mean': si[0][2], \n",
    "            'first_iat_stddev': si[0][3], 'first_iat_skew': si[0][4], 'first_size_min': si[0][5], \n",
    "            'first_size_max': si[0][6], 'first_size_mean': si[0][7], 'first_size_stddev': si[0][8], \n",
    "            'first_size_skew': si[0][9], 'first_num_packets': si[0][10], 'first_num_bytes': si[0][11], \n",
    "            'first_pkts_time': si[0][12], 'first_bytes_time': si[0][13],\n",
    "        'second_iat_max': si[1][0], 'second_iat_min': si[1][1], 'second_iat_mean': si[1][2], \n",
    "            'second_iat_stddev': si[1][3], 'second_iat_skew': si[1][4], 'second_size_min': si[1][5], \n",
    "            'second_size_max': si[1][6], 'second_size_mean': si[1][7], 'second_size_stddev': si[1][8], \n",
    "            'second_size_skew': si[1][9], 'second_num_packets': si[1][10], 'second_num_bytes': si[1][11], \n",
    "            'second_pkts_time': si[1][12], 'second_bytes_time': si[1][13],\n",
    "        'third_iat_max': si[2][0], 'third_iat_min': si[2][1], 'third_iat_mean': si[2][2], \n",
    "            'third_iat_stddev': si[2][3], 'third_iat_skew': si[2][4], 'third_size_min': si[2][5], \n",
    "            'third_size_max': si[2][6], 'third_size_mean': si[2][7], 'third_size_stddev': si[2][8], \n",
    "            'third_size_skew': si[2][9], 'third_num_packets': si[2][10], 'third_num_bytes': si[2][11], \n",
    "            'third_pkts_time': si[2][12], 'third_bytes_time': si[2][13],\n",
    "        'fourth_iat_max': si[3][0], 'fourth_iat_min': si[3][1], 'fourth_iat_mean': si[3][2],\n",
    "            'fourth_iat_stddev': si[3][3], 'fourth_iat_skew': si[3][4], 'fourth_size_min': si[3][5],\n",
    "            'fourth_size_max': si[3][6], 'fourth_size_mean': si[3][7], 'fourth_size_stddev': si[3][8], \n",
    "            'fourth_size_skew': si[3][9], 'fourth_num_packets': si[3][10], 'fourth_num_bytes': si[3][11],\n",
    "            'fourth_pkts_time': si[3][12], 'fourth_bytes_time': si[3][13],\n",
    "        'fifth_iat_max': si[4][0], 'fifth_iat_min': si[4][1], 'fifth_iat_mean': si[4][2], \n",
    "            'fifth_iat_stddev': si[4][3], 'fifth_iat_skew': si[4][4], 'fifth_size_min': si[4][5],\n",
    "            'fifth_size_max': si[4][6], 'fifth_size_mean': si[4][7], 'fifth_size_stddev': si[4][8], \n",
    "            'fifth_size_skew': si[4][9], 'fifth_num_packets': si[4][10], 'fifth_num_bytes': si[4][11], \n",
    "            'fifth_pkts_time': si[4][12], 'fifth_bytes_time': si[4][13]}\n",
    "        my_df = my_df.append(new_row, ignore_index=True)\n",
    "    return my_df\n",
    "\n",
    "# Post ML\n",
    "def count_voles(votes):\n",
    "    # count the votes for type\n",
    "    vote_count=Counter(votes)\n",
    " \n",
    "    # find the maximum number of votes\n",
    "    max_votes = max(vote_count.values())\n",
    " \n",
    "    # search for type having maximum votes and store in a list\n",
    "    lst=[i for i in vote_count.keys() if vote_count[i]==max_votes]\n",
    " \n",
    "    # sort the list\n",
    "    return max_votes, sorted(lst)[0]\n",
    "\n",
    "def final_predictions(dtc_p, rfc_p, xgb_p):\n",
    "    final_result = []\n",
    "    for idx, _ in enumerate(dtc_p):\n",
    "        if dtc_p[idx] != rfc_p[idx] or dtc_p[idx] != xgb_p[idx] or rfc_p[idx] != xgb_p[idx]:\n",
    "            max_votes, chosen = count_voles([dtc_p[idx], rfc_p[idx], xgb_p[idx]])\n",
    "            if max_votes == 1:\n",
    "                final_result.append(xgb_p[idx])\n",
    "            else:\n",
    "                final_result.append(chosen)\n",
    "        else:\n",
    "            final_result.append(dtc_p[idx])\n",
    "    return final_result"
   ]
  },
  {
   "cell_type": "markdown",
   "id": "8dfbae34",
   "metadata": {},
   "source": [
    "## Read Data and Preprocess it to fit into DeepMAL model"
   ]
  },
  {
   "cell_type": "code",
   "execution_count": 3,
   "id": "fb139a6c",
   "metadata": {},
   "outputs": [],
   "source": [
    "# Read Data\n",
    "dataset_type = 'mta' # other options: 'mta' , 'zero' or 'ustc'\n",
    "\n",
    "filepath = f'./datasets/{dataset_type}/xy_train.csv'\n",
    "df = pd.read_csv(filepath)"
   ]
  },
  {
   "cell_type": "markdown",
   "id": "0263e0c9",
   "metadata": {},
   "source": [
    "## Preprocess the data"
   ]
  },
  {
   "cell_type": "code",
   "execution_count": 4,
   "id": "ff81e23c",
   "metadata": {},
   "outputs": [],
   "source": [
    "label_type = 'label' # options: 'malware_family' or 'label'\n",
    "\n",
    "features_list1 = [ 0, 1, 4, 5, 6, 7, 8, 9, 10, 11, 12, 13, 14, 15, 16, 17, 18, 19, 20, \n",
    "                  21, 22, 23, 24, 25, 26, 27, 28, 29, 30, 31, 32, 33, 34, 35, 36, 37, 38, 39, 40, \n",
    "                  41, 42, 43, 44, 45, 46, 47, 48, 49, 50, 51, 52, 53, 54, 55, 56, 58, 59, 60, 61, 62, 63 ]\n",
    "features_list2 = [ 0, 1, 2, 3, 4, 5, 6, 7, 8, 9, 10, 11, 12, 13, 14, 15, 16, 17, 18, 19, 20, \n",
    "                  21, 22, 23, 24, 25, 26, 27, 28, 29, 30, 31, 32, 33, 34, 35, 36, 37, 38, 39, 40, \n",
    "                  41, 42, 43, 44, 45, 46, 47, 48, 49, 50, 51, 52, 53, 54, 55, 56, 57, 58, 59, 60, 61, 62, 63 ]\n",
    "features_list3 = [ 0, 1, 2, 3, 4, 5, 6, 7, 8, 9, 10, 11, 12, 13, 14, 15, 16, 17, 18, 19, 20, \n",
    "                  21, 22, 23, 24, 25, 26, 27, 28, 29, 30, 31, 32, 33, 34, 35, 36, 37, 38, 39, 40, \n",
    "                  41, 42, 43, 44, 45, 46, 47, 48, 49, 50, 51, 52, 53, 54, 56, 57, 58, 59, 60, 61, 62, 63 ]\n",
    "\n",
    "if dataset_type == 'zero':\n",
    "    features_list1 = [ 1, 2, 3, 4, 6, 7, 8, 9, 10, 11, 12, 13, 17, 18, 20, 21, 22, 25, 26, 27, 28, 29, \n",
    "                      30, 31, 32, 33, 36, 37, 41, 42, 43, 44, 46, 47, 48, 49, \n",
    "                      51, 52, 53, 54, 57, 58, 60, 61, 62, 63, 64, 65, 66, 68]\n",
    "    features_list2 = [ 0, 1, 2, 3, 4, 5, 6, 7, 8, 9, 10, 11, 12, 13, 14, 15, 16, 17, 18, 19, \n",
    "                      20, 21, 22, 23, 24, 25, 26, 27, 28, 29, 30, 31, 32, 33, 34, 35, 36, 37, 38, 39, \n",
    "                      40, 41, 42, 43, 44, 45, 46, 47, 48, 49, \n",
    "                      50, 51, 52, 53, 54, 55, 56, 57, 58, 59, 60, 61, 62, 63, 64, 65, 66, 67, 68 ]\n",
    "    features_list3 = [ 0, 1, 2, 3, 4, 6, 7, 8, 9, 10, 11, 12, 13, 15, 16, 17, 18, 19, \n",
    "                      20, 21, 22, 23, 25, 26, 27, 28, 29, 30, 31, 32, 33, 35, 36, 37, 38, 39, \n",
    "                      40, 41, 42, 43, 44, 46, 47, 48, 49, \n",
    "                      51, 52, 53, 54, 57, 58, 59, 60, 61, 64, 65, 66, 67, 68 ]\n",
    "    \n",
    "my_phf = preprocess_header_fields(df)\n",
    "my_si= preprocess_stnn_image(df)\n",
    "'''\n",
    "NFLOW CORE FEATURES:                   expiration_id -> dst2src_bytes                    (0-26)\n",
    "NFLOW LAYER-7 VISIBILITY FEATURES:     application_name -> content_type                  (27-34)\n",
    "POST-MORTEM STATISTICAL FEATURES:      bidirectional_min_ps -> dst2src_fin_packets       (35-82)\n",
    "UDPS:                                  udps.n_bytes -> udps.stnn_image                   (83-87)\n",
    "'''\n",
    "# 12 - bidirectional_first_seen_ms, 13 - bidirectional_last_seen_ms,\n",
    "# 17 - src2dst_first_seen_ms, 18 - src2dst_last_seen_ms, \n",
    "# 22 - dst2src_first_seen_ms, 23 - dst2src_last_seen_ms,\n",
    "# 27 - application_name, 28 - application_category_name,\n",
    "\n",
    "X = np.stack([\n",
    "    df['src_port'], df['dst_port'], df['protocol'], \n",
    "    df['ip_version'], df['bidirectional_duration_ms'], df['bidirectional_packets'], \n",
    "    df['bidirectional_bytes'], df['src2dst_duration_ms'], df['src2dst_packets'], \n",
    "    df['src2dst_bytes'], df['dst2src_duration_ms'], df['dst2src_packets'], \n",
    "    df['dst2src_bytes'], df['application_is_guessed'], df['bidirectional_min_ps'],\n",
    "    df['bidirectional_mean_ps'], df['bidirectional_stddev_ps'], df['bidirectional_max_ps'],\n",
    "    df['src2dst_min_ps'], df['src2dst_mean_ps'], df['src2dst_stddev_ps'],\n",
    "    df['src2dst_max_ps'], df['dst2src_min_ps'], df['dst2src_mean_ps'], \n",
    "    df['dst2src_stddev_ps'], df['dst2src_max_ps'], df['bidirectional_min_piat_ms'], \n",
    "    df['bidirectional_mean_piat_ms'], df['bidirectional_stddev_piat_ms'], df['bidirectional_max_piat_ms'], \n",
    "    df['src2dst_min_piat_ms'], df['src2dst_mean_piat_ms'], df['src2dst_stddev_piat_ms'], \n",
    "    df['src2dst_max_piat_ms'], df['dst2src_min_piat_ms'], df['dst2src_mean_piat_ms'],\n",
    "    df['dst2src_stddev_piat_ms'], df['dst2src_max_piat_ms'], df['bidirectional_syn_packets'], \n",
    "    df['bidirectional_ack_packets'], df['bidirectional_psh_packets'],  df['bidirectional_rst_packets'],\n",
    "    df['bidirectional_fin_packets'], df['src2dst_syn_packets'], df['src2dst_ack_packets'], \n",
    "    df['src2dst_psh_packets'], df['src2dst_rst_packets'], df['src2dst_fin_packets'], \n",
    "    df['dst2src_syn_packets'], df['dst2src_ack_packets'], df['dst2src_psh_packets'], \n",
    "    df['dst2src_rst_packets'], df['dst2src_fin_packets'],\n",
    "              \n",
    "    df['udps.handshake_packets_duration'],\n",
    "              \n",
    "    my_phf['num_dir_zero'], my_phf['num_dir_one'], \n",
    "    my_phf['payload_size_max'], my_phf['payload_size_min'], my_phf['payload_size_mean'], \n",
    "    my_phf['delta_time_max'], my_phf['delta_time_mean'],\n",
    "    my_phf['tws_max'], my_phf['tws_min'], my_phf['tws_mean']\n",
    "]).T\n",
    "\n",
    "if dataset_type == 'zero':\n",
    "    X = np.stack([\n",
    "        df['bidirectional_bytes'], df['src2dst_packets'], df['dst2src_packets'],\n",
    "        \n",
    "        df['udps.handshake_packets_duration'],\n",
    "    \n",
    "        my_phf['num_dir_zero'], my_phf['num_dir_one'], \n",
    "        my_phf['payload_size_max'], my_phf['payload_size_min'], my_phf['payload_size_mean'], \n",
    "        my_phf['delta_time_max'], my_phf['delta_time_mean'],\n",
    "        my_phf['tws_max'], my_phf['tws_min'], my_phf['tws_mean'],\n",
    "    \n",
    "        my_si['first_iat_min'], my_si['first_iat_mean'], my_si['first_iat_stddev'], \n",
    "        my_si['first_iat_skew'], my_si['first_size_min'], my_si['first_size_max'], \n",
    "        my_si['first_size_mean'], my_si['first_size_stddev'], my_si['first_size_skew'], \n",
    "        my_si['first_num_packets'], my_si['first_num_bytes'],\n",
    "    \n",
    "        my_si['second_iat_min'], my_si['second_iat_mean'], my_si['second_iat_stddev'],\n",
    "        my_si['second_iat_skew'], my_si['second_size_min'], my_si['second_size_max'],\n",
    "        my_si['second_size_mean'], my_si['second_size_stddev'], my_si['second_size_skew'],\n",
    "        my_si['second_num_packets'], my_si['second_num_bytes'], \n",
    "    \n",
    "        my_si['third_iat_min'], my_si['third_iat_mean'], my_si['third_iat_stddev'], \n",
    "        my_si['third_iat_skew'], my_si['third_size_min'], my_si['third_size_max'], \n",
    "        my_si['third_size_mean'], my_si['third_size_stddev'], my_si['third_size_skew'], \n",
    "        my_si['third_num_packets'], my_si['third_num_bytes'],\n",
    "    \n",
    "        my_si['fourth_iat_min'], my_si['fourth_iat_mean'], my_si['fourth_iat_stddev'],\n",
    "        my_si['fourth_iat_skew'], my_si['fourth_size_min'], my_si['fourth_size_max'],\n",
    "        my_si['fourth_size_mean'], my_si['fourth_size_stddev'], my_si['fourth_size_skew'], \n",
    "        my_si['fourth_num_packets'], my_si['fourth_num_bytes'], \n",
    "    \n",
    "        my_si['fifth_iat_min'], my_si['fifth_iat_mean'], my_si['fifth_iat_stddev'], \n",
    "        my_si['fifth_iat_skew'], my_si['fifth_size_min'], my_si['fifth_size_max'], \n",
    "        my_si['fifth_size_mean'], my_si['fifth_size_stddev'], my_si['fifth_size_skew'], \n",
    "        my_si['fifth_num_packets'], my_si['fifth_num_bytes']\n",
    "    ]).T\n",
    "\n",
    "y = np.stack(df[label_type])\n",
    "\n",
    "enc = LabelEncoder()\n",
    "enc.fit(y)\n",
    "y = enc.transform(y)\n",
    "\n",
    "scaler_mix = StandardScaler()\n",
    "scaler_mix.fit(X)\n",
    "X = scaler_mix.transform(X)"
   ]
  },
  {
   "cell_type": "code",
   "execution_count": 5,
   "id": "8e3fc72c",
   "metadata": {},
   "outputs": [],
   "source": [
    "X_train, X_test, y_train, y_test = train_test_split(X, y, test_size=0.20, random_state=1666, stratify=y)\n",
    "\n",
    "# MIX 1\n",
    "X_mix_one_train = X_train[:, features_list1]\n",
    "X_mix_one_test = X_test[:, features_list1]\n",
    "\n",
    "# MIX 2\n",
    "X_mix_two_train = X_train[:, features_list2]\n",
    "X_mix_two_test = X_test[:, features_list2]\n",
    "\n",
    "# MIX 3\n",
    "X_mix_three_train = X_train[:, features_list3]\n",
    "X_mix_three_test = X_test[:, features_list3]"
   ]
  },
  {
   "cell_type": "markdown",
   "id": "bcdad88b",
   "metadata": {},
   "source": [
    "## Train/Fit"
   ]
  },
  {
   "cell_type": "code",
   "execution_count": 6,
   "id": "5a07e9c3",
   "metadata": {},
   "outputs": [
    {
     "data": {
      "text/plain": [
       "DecisionTreeClassifier(max_depth=30, random_state=1914)"
      ]
     },
     "execution_count": 6,
     "metadata": {},
     "output_type": "execute_result"
    }
   ],
   "source": [
    "# MIX 1\n",
    "dtc_clf = DecisionTreeClassifier(max_depth=30, random_state=1914)\n",
    "dtc_clf.fit(X_mix_one_train, y_train)"
   ]
  },
  {
   "cell_type": "code",
   "execution_count": 7,
   "id": "ff140ca5",
   "metadata": {},
   "outputs": [
    {
     "data": {
      "text/plain": [
       "RandomForestClassifier(max_depth=30, n_estimators=500, n_jobs=4,\n",
       "                       random_state=2021)"
      ]
     },
     "execution_count": 7,
     "metadata": {},
     "output_type": "execute_result"
    }
   ],
   "source": [
    "# MIX 2\n",
    "rfc_clf = RandomForestClassifier(n_estimators=500, max_depth=30, n_jobs=4, random_state=2021)\n",
    "rfc_clf.fit(X_mix_two_train, y_train)"
   ]
  },
  {
   "cell_type": "code",
   "execution_count": 8,
   "id": "ec9568aa",
   "metadata": {},
   "outputs": [
    {
     "data": {
      "text/plain": [
       "XGBClassifier(base_score=0.5, booster='gbtree', colsample_bylevel=1,\n",
       "              colsample_bynode=1, colsample_bytree=1, enable_categorical=False,\n",
       "              eval_metric='mlogloss', gamma=0, gpu_id=-1, importance_type=None,\n",
       "              interaction_constraints='', learning_rate=0.300000012,\n",
       "              max_delta_step=0, max_depth=30, min_child_weight=1, missing=nan,\n",
       "              monotone_constraints='()', n_estimators=500, n_jobs=4,\n",
       "              num_parallel_tree=1, predictor='auto', random_state=1941,\n",
       "              reg_alpha=0, reg_lambda=1, scale_pos_weight=1, subsample=1,\n",
       "              tree_method='exact', use_label_encoder=False,\n",
       "              validate_parameters=1, verbosity=None)"
      ]
     },
     "execution_count": 8,
     "metadata": {},
     "output_type": "execute_result"
    }
   ],
   "source": [
    "# MIX 3\n",
    "xgb_clf = XGBClassifier(n_estimators=500, max_depth=30, n_jobs=4, eval_metric='mlogloss', \n",
    "                        random_state=1941, use_label_encoder=False)\n",
    "xgb_clf.fit(X_mix_three_train, y_train)"
   ]
  },
  {
   "cell_type": "markdown",
   "id": "8dfaa6fe",
   "metadata": {},
   "source": [
    "## Test/Predict"
   ]
  },
  {
   "cell_type": "code",
   "execution_count": 9,
   "id": "c56556cd",
   "metadata": {},
   "outputs": [
    {
     "name": "stdout",
     "output_type": "stream",
     "text": [
      "accuracy score: 99.68%\n"
     ]
    },
    {
     "data": {
      "image/png": "[encoded data removed]",
      "text/plain": [
       "<Figure size 432x288 with 2 Axes>"
      ]
     },
     "metadata": {
      "needs_background": "light"
     },
     "output_type": "display_data"
    }
   ],
   "source": [
    "dtc_predictions = dtc_clf.predict(X_mix_one_test)\n",
    "rfc_predictions = rfc_clf.predict(X_mix_two_test)\n",
    "xgb_predictions = xgb_clf.predict(X_mix_three_test)\n",
    "predictions = final_predictions(dtc_predictions, rfc_predictions, xgb_predictions)\n",
    "    \n",
    "true_labels = y_test\n",
    "cf_matrix = confusion_matrix(true_labels, predictions)\n",
    "\n",
    "accuracy = accuracy_score(true_labels, predictions)\n",
    "print(\"accuracy score: {0:.2f}%\".format(accuracy*100))\n",
    "    \n",
    "heatmap = sns.heatmap(cf_matrix, annot=True, cmap='Blues', fmt='g', \n",
    "                      xticklabels=np.unique(true_labels), \n",
    "                      yticklabels=np.unique(true_labels))"
   ]
  },
  {
   "cell_type": "markdown",
   "id": "3cba6827",
   "metadata": {},
   "source": [
    "## Save results in file"
   ]
  },
  {
   "cell_type": "code",
   "execution_count": 10,
   "id": "3f70e0ad",
   "metadata": {},
   "outputs": [],
   "source": [
    "save_classification_report(\n",
    "    classification_report(true_labels, predictions),\n",
    "    cf_matrix,\n",
    "    heatmap,\n",
    "    'reports/'\n",
    ")"
   ]
  },
  {
   "cell_type": "code",
   "execution_count": 11,
   "id": "73c95d0d",
   "metadata": {},
   "outputs": [
    {
     "name": "stdout",
     "output_type": "stream",
     "text": [
      "0.9899975603805806\n",
      "[[2026   23]\n",
      " [  18 2032]]\n"
     ]
    }
   ],
   "source": [
    "print(dtc_clf.score(X_mix_one_test, y_test))\n",
    "print(confusion_matrix(y_test,dtc_predictions))"
   ]
  },
  {
   "cell_type": "code",
   "execution_count": 12,
   "id": "7bec9f54",
   "metadata": {},
   "outputs": [
    {
     "name": "stdout",
     "output_type": "stream",
     "text": [
      "0.9963405708709442\n",
      "[[2043    6]\n",
      " [   9 2041]]\n"
     ]
    }
   ],
   "source": [
    "print(rfc_clf.score(X_mix_two_test, y_test))\n",
    "print(confusion_matrix(y_test,rfc_predictions))"
   ]
  },
  {
   "cell_type": "code",
   "execution_count": 13,
   "id": "9b2b18e8",
   "metadata": {},
   "outputs": [
    {
     "name": "stdout",
     "output_type": "stream",
     "text": [
      "0.9963405708709442\n",
      "[[2043    6]\n",
      " [   9 2041]]\n"
     ]
    }
   ],
   "source": [
    "print(xgb_clf.score(X_mix_three_test, y_test))\n",
    "print(confusion_matrix(y_test,xgb_predictions))"
   ]
  },
  {
   "cell_type": "markdown",
   "id": "e3e34871",
   "metadata": {},
   "source": [
    "## Create predictions text file"
   ]
  },
  {
   "cell_type": "code",
   "execution_count": 14,
   "id": "144540f8",
   "metadata": {},
   "outputs": [],
   "source": [
    "'''\n",
    "There are two types of submissions:\n",
    "1. 'val': Validation set, a small sized test to check your results with - should be private.\n",
    "2. 'test': Test set - a bigger test - this is the public submission.\n",
    "'''\n",
    "submission_type = 'val' # options: 'test' or 'val'\n",
    "\n",
    "'''\n",
    "Load the validation or test data into a DataFrame from the CSV, check that the path is correct.\n",
    "'''\n",
    "df_test = pd.read_csv(f'./datasets/{dataset_type}/x_{submission_type}.csv')\n",
    "\n",
    "# preprocess data\n",
    "my_df_test = preprocess_header_fields(df_test)\n",
    "my_si= preprocess_stnn_image(df_test)\n",
    "\n",
    "X_val = np.stack([\n",
    "    df_test['src_port'], df_test['dst_port'], df_test['protocol'], \n",
    "    df_test['ip_version'], df_test['bidirectional_duration_ms'], df_test['bidirectional_packets'], \n",
    "    df_test['bidirectional_bytes'], df_test['src2dst_duration_ms'], df_test['src2dst_packets'], \n",
    "    df_test['src2dst_bytes'], df_test['dst2src_duration_ms'], df_test['dst2src_packets'], \n",
    "    df_test['dst2src_bytes'], df_test['application_is_guessed'], df_test['bidirectional_min_ps'],\n",
    "    df_test['bidirectional_mean_ps'], df_test['bidirectional_stddev_ps'], df_test['bidirectional_max_ps'],\n",
    "    df_test['src2dst_min_ps'], df_test['src2dst_mean_ps'], df_test['src2dst_stddev_ps'],\n",
    "    df_test['src2dst_max_ps'], df_test['dst2src_min_ps'], df_test['dst2src_mean_ps'], \n",
    "    df_test['dst2src_stddev_ps'], df_test['dst2src_max_ps'], df_test['bidirectional_min_piat_ms'], \n",
    "    df_test['bidirectional_mean_piat_ms'], df_test['bidirectional_stddev_piat_ms'], df_test['bidirectional_max_piat_ms'], \n",
    "    df_test['src2dst_min_piat_ms'], df_test['src2dst_mean_piat_ms'], df_test['src2dst_stddev_piat_ms'], \n",
    "    df_test['src2dst_max_piat_ms'], df_test['dst2src_min_piat_ms'], df_test['dst2src_mean_piat_ms'], \n",
    "    df_test['dst2src_stddev_piat_ms'], df_test['dst2src_max_piat_ms'], df_test['bidirectional_syn_packets'], \n",
    "    df_test['bidirectional_ack_packets'], df_test['bidirectional_psh_packets'], df_test['bidirectional_rst_packets'], \n",
    "    df_test['bidirectional_fin_packets'], df_test['src2dst_syn_packets'], df_test['src2dst_ack_packets'], \n",
    "    df_test['src2dst_psh_packets'], df_test['src2dst_rst_packets'], df_test['src2dst_fin_packets'], \n",
    "    df_test['dst2src_syn_packets'], df_test['dst2src_ack_packets'], df_test['dst2src_psh_packets'], \n",
    "    df_test['dst2src_rst_packets'], df_test['dst2src_fin_packets'], \n",
    "              \n",
    "    df_test['udps.handshake_packets_duration'],\n",
    "    \n",
    "    my_df_test['num_dir_zero'], my_df_test['num_dir_one'], \n",
    "    my_df_test['payload_size_max'], my_df_test['payload_size_min'], my_df_test['payload_size_mean'], \n",
    "    my_df_test['delta_time_max'], my_df_test['delta_time_mean'],\n",
    "    my_df_test['tws_max'], my_df_test['tws_min'], my_df_test['tws_mean'],\n",
    "]).T\n",
    "\n",
    "if dataset_type == 'zero':\n",
    "    X_val = np.stack([\n",
    "        df_test['bidirectional_bytes'], df_test['src2dst_packets'], df_test['dst2src_packets'], \n",
    "        df_test['udps.handshake_packets_duration'],\n",
    "    \n",
    "        my_df_test['num_dir_zero'], my_df_test['num_dir_one'], \n",
    "        my_df_test['payload_size_max'], my_df_test['payload_size_min'], my_df_test['payload_size_mean'], \n",
    "        my_df_test['delta_time_max'], my_df_test['delta_time_mean'],\n",
    "        my_df_test['tws_max'], my_df_test['tws_min'], my_df_test['tws_mean'],\n",
    "    \n",
    "        my_si['first_iat_min'], my_si['first_iat_mean'], my_si['first_iat_stddev'],\n",
    "        my_si['first_iat_skew'], my_si['first_size_min'], my_si['first_size_max'], \n",
    "        my_si['first_size_mean'], my_si['first_size_stddev'], my_si['first_size_skew'], \n",
    "        my_si['first_num_packets'], my_si['first_num_bytes'], \n",
    "    \n",
    "        my_si['second_iat_min'], my_si['second_iat_mean'], my_si['second_iat_stddev'], \n",
    "        my_si['second_iat_skew'], my_si['second_size_min'], my_si['second_size_max'], \n",
    "        my_si['second_size_mean'], my_si['second_size_stddev'], my_si['second_size_skew'], \n",
    "        my_si['second_num_packets'], my_si['second_num_bytes'], \n",
    "    \n",
    "        my_si['third_iat_min'], my_si['third_iat_mean'], my_si['third_iat_stddev'], \n",
    "        my_si['third_iat_skew'], my_si['third_size_min'], my_si['third_size_max'], \n",
    "        my_si['third_size_mean'], my_si['third_size_stddev'], my_si['third_size_skew'], \n",
    "        my_si['third_num_packets'], my_si['third_num_bytes'], \n",
    "    \n",
    "        my_si['fourth_iat_min'], my_si['fourth_iat_mean'], my_si['fourth_iat_stddev'], \n",
    "        my_si['fourth_iat_skew'], my_si['fourth_size_min'], my_si['fourth_size_max'], \n",
    "        my_si['fourth_size_mean'], my_si['fourth_size_stddev'], my_si['fourth_size_skew'], \n",
    "        my_si['fourth_num_packets'], my_si['fourth_num_bytes'], \n",
    "    \n",
    "        my_si['fifth_iat_min'], my_si['fifth_iat_mean'], my_si['fifth_iat_stddev'], \n",
    "        my_si['fifth_iat_skew'],my_si['fifth_size_min'], my_si['fifth_size_max'], \n",
    "        my_si['fifth_size_mean'], my_si['fifth_size_stddev'], my_si['fifth_size_skew'], \n",
    "        my_si['fifth_num_packets'], my_si['fifth_num_bytes']\n",
    "    ]).T\n",
    "\n",
    "X_val = scaler_mix.transform(X_val)\n",
    "# MIX 1\n",
    "X_mix_one_val = X_val[:, features_list1]\n",
    "\n",
    "# MIX 2\n",
    "X_mix_two_val = X_val[:, features_list2]\n",
    "\n",
    "# MIX 3\n",
    "X_mix_three_val = X_val[:, features_list3]\n",
    "\n",
    "\n",
    "dtc_predictions = dtc_clf.predict(X_mix_one_val)\n",
    "rfc_predictions = rfc_clf.predict(X_mix_two_val)\n",
    "xgb_predictions = xgb_clf.predict(X_mix_three_val)\n",
    "\n",
    "predictions = final_predictions(dtc_predictions, rfc_predictions, xgb_predictions)\n",
    "np.savetxt(f'{dataset_type}_{label_type}_{submission_type}_predictions.txt', predictions, fmt='%2d')"
   ]
  },
  {
   "cell_type": "code",
   "execution_count": null,
   "id": "7596efe6",
   "metadata": {},
   "outputs": [],
   "source": []
  }
 ],
 "metadata": {
  "kernelspec": {
   "display_name": "Python 3 (ipykernel)",
   "language": "python",
   "name": "python3"
  },
  "language_info": {
   "codemirror_mode": {
    "name": "ipython",
    "version": 3
   },
   "file_extension": ".py",
   "mimetype": "text/x-python",
   "name": "python",
   "nbconvert_exporter": "python",
   "pygments_lexer": "ipython3",
   "version": "3.8.10"
  }
 },
 "nbformat": 4,
 "nbformat_minor": 5
}
