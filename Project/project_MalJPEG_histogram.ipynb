{
 "cells": [
  {
   "cell_type": "markdown",
   "id": "9d03591d",
   "metadata": {},
   "source": [
    "# Task -Project MalJPEG"
   ]
  },
  {
   "cell_type": "markdown",
   "id": "d6c95632",
   "metadata": {},
   "source": [
    "## Imports"
   ]
  },
  {
   "cell_type": "code",
   "execution_count": 1,
   "id": "1eda3677",
   "metadata": {},
   "outputs": [],
   "source": [
    "# Imports\n",
    "import numpy as np # Support for large arrays and matrices, along with high-level mathematical functions.\n",
    "import seaborn as sns # Graphing/Plotting module.\n",
    "import pandas as pd # CSV handling with operations on tabular data.\n",
    "\n",
    "from sklearn.ensemble import RandomForestClassifier\n",
    "from sklearn.datasets import make_classification\n",
    "from sklearn.model_selection import train_test_split\n",
    "from sklearn.metrics import classification_report,confusion_matrix, accuracy_score, roc_auc_score"
   ]
  },
  {
   "cell_type": "markdown",
   "id": "8dfbae34",
   "metadata": {},
   "source": [
    "## Read Data and Preprocess it to fit into DeepMAL model"
   ]
  },
  {
   "cell_type": "code",
   "execution_count": 2,
   "id": "fb139a6c",
   "metadata": {
    "scrolled": false
   },
   "outputs": [],
   "source": [
    "# Read Data\n",
    "dataset_type = 'histograms_e.csv' # other options: 'histograms_q.csv' or 'histograms_g.csv' or 'histograms_e.csv'\n",
    "\n",
    "filepath = f'./datasets/{dataset_type}'\n",
    "df = pd.read_csv(filepath)"
   ]
  },
  {
   "cell_type": "markdown",
   "id": "0263e0c9",
   "metadata": {},
   "source": [
    "## Preprocess the data"
   ]
  },
  {
   "cell_type": "code",
   "execution_count": 3,
   "id": "ff81e23c",
   "metadata": {},
   "outputs": [],
   "source": [
    "label_type = 'label' # options: 'label'\n",
    "\n",
    "X = np.stack([\n",
    "    df['0'], df['1'], df['2'], df['3'], df['4'], df['5'], df['6'], df['7'], df['8'], df['9'], \n",
    "    df['10'], df['11'], df['12'], df['13'], df['14'], df['15'], df['16'], df['17'], df['18'], df['19'], \n",
    "    df['20'], df['21'], df['22'], df['23'], df['24'], df['25'], df['26'], df['27'], df['28'], df['29'], \n",
    "    df['30'], df['31'], df['32'], df['33'], df['34'], df['35'], df['36'], df['37'], df['38'], df['39'], \n",
    "    df['40'], df['41'], df['42'], df['43'], df['44'], df['45'], df['46'], df['47'], df['48'], df['49'], \n",
    "    df['50'], df['51'], df['52'], df['53'], df['54'], df['55'], df['56'], df['57'], df['58'], df['59'], \n",
    "    df['60'], df['61'], df['62'], df['63'], df['64'], df['65'], df['66'], df['67'], df['68'], df['69'], \n",
    "    df['70'], df['71'], df['72'], df['73'], df['74'], df['75'], df['76'], df['77'], df['78'], df['79'], \n",
    "    df['80'], df['81'], df['82'], df['83'], df['84'], df['85'], df['86'], df['87'], df['88'], df['89'], \n",
    "    df['90'], df['91'], df['92'], df['93'], df['94'], df['95'], df['96'], df['97'], df['98'], df['99'], \n",
    "    df['100'], df['101'], df['102'], df['103'], df['104'], df['105'], df['106'], df['107'], df['108'],df['109'], \n",
    "    df['110'], df['111'], df['112'], df['113'], df['114'], df['115'], df['116'], df['117'], df['118'], df['119'], \n",
    "    df['120'], df['121'], df['122'], df['123'], df['124'], df['125'], df['126'], df['127'], df['128'], df['129'], \n",
    "    df['130'], df['131'], df['132'], df['133'], df['134'], df['135'], df['136'], df['137'], df['138'], df['139'], \n",
    "    df['140'], df['141'], df['142'], df['143'], df['144'], df['145'], df['146'], df['147'], df['148'], df['149'], \n",
    "    df['150'], df['151'], df['152'], df['153'], df['154'], df['155'], df['156'], df['157'], df['158'], df['159'], \n",
    "    df['160'], df['161'], df['162'], df['163'], df['164'], df['165'], df['166'], df['167'], df['168'], df['169'], \n",
    "    df['170'], df['171'], df['172'], df['173'], df['174'], df['175'], df['176'], df['177'], df['178'], df['179'], \n",
    "    df['180'], df['181'], df['182'], df['183'], df['184'], df['185'], df['186'], df['187'], df['188'], df['189'], \n",
    "    df['190'], df['191'], df['192'], df['193'], df['194'], df['195'], df['196'], df['197'], df['198'], df['199'], \n",
    "    df['200'], df['201'], df['202'], df['203'], df['204'], df['205'], df['206'], df['207'], df['208'], df['209'], \n",
    "    df['210'], df['211'], df['212'], df['213'], df['214'], df['215'], df['216'], df['217'], df['218'], df['219'], \n",
    "    df['220'], df['221'], df['222'], df['223'], df['224'], df['225'], df['226'], df['227'], df['228'], df['229'], \n",
    "    df['230'], df['231'], df['232'], df['233'], df['234'], df['235'], df['236'], df['237'], df['238'], df['239'], \n",
    "    df['240'], df['241'], df['242'], df['243'], df['244'], df['245'], df['246'], df['247'], df['248'], df['249'], \n",
    "    df['250'], df['251'], df['252'], df['253'], df['254'], df['255']\n",
    "]).T\n",
    "\n",
    "y = np.stack(df[label_type])"
   ]
  },
  {
   "cell_type": "code",
   "execution_count": 4,
   "id": "8e3fc72c",
   "metadata": {},
   "outputs": [],
   "source": [
    "X_train, X_test, y_train, y_test = train_test_split(X, y, test_size=0.30, random_state=1666, stratify=y)"
   ]
  },
  {
   "cell_type": "markdown",
   "id": "bcdad88b",
   "metadata": {},
   "source": [
    "## Train/Fit"
   ]
  },
  {
   "cell_type": "code",
   "execution_count": 5,
   "id": "e4c9489c",
   "metadata": {},
   "outputs": [
    {
     "data": {
      "text/plain": [
       "RandomForestClassifier(max_depth=30, n_estimators=500, n_jobs=4,\n",
       "                       random_state=2021)"
      ]
     },
     "execution_count": 5,
     "metadata": {},
     "output_type": "execute_result"
    }
   ],
   "source": [
    "# Random Forest classifier\n",
    "rfc_clf = RandomForestClassifier(n_estimators=500, max_depth=30, n_jobs=4, random_state=2021)\n",
    "rfc_clf.fit(X_train, y_train)"
   ]
  },
  {
   "cell_type": "markdown",
   "id": "8dfaa6fe",
   "metadata": {},
   "source": [
    "## Test/Predict"
   ]
  },
  {
   "cell_type": "code",
   "execution_count": 6,
   "id": "c56556cd",
   "metadata": {},
   "outputs": [],
   "source": [
    "rfc_predictions = rfc_clf.predict(X_test)\n",
    "    \n",
    "true_labels = y_test"
   ]
  },
  {
   "cell_type": "code",
   "execution_count": 7,
   "id": "df63209c",
   "metadata": {},
   "outputs": [
    {
     "name": "stdout",
     "output_type": "stream",
     "text": [
      "accuracy score: 95.69%\n",
      "TPR: 0.932%\n",
      "FPR: 0.002%\n",
      "AUC&ROC 0.6634148282035872\n",
      "              precision    recall  f1-score   support\n",
      "\n",
      "           0       0.96      1.00      0.98      8209\n",
      "           1       0.93      0.33      0.49       542\n",
      "\n",
      "    accuracy                           0.96      8751\n",
      "   macro avg       0.94      0.66      0.73      8751\n",
      "weighted avg       0.96      0.96      0.95      8751\n",
      "\n"
     ]
    },
    {
     "data": {
      "image/png": "[encoded data removed]",
      "text/plain": [
       "<Figure size 432x288 with 2 Axes>"
      ]
     },
     "metadata": {
      "needs_background": "light"
     },
     "output_type": "display_data"
    }
   ],
   "source": [
    "cf_matrix = confusion_matrix(true_labels, rfc_predictions)\n",
    "\n",
    "accuracy = accuracy_score(true_labels, rfc_predictions)\n",
    "print(\"accuracy score: {0:.2f}%\".format(accuracy*100))\n",
    "print(\"TPR: {0:.3f}%\".format(cf_matrix[1][1]/(cf_matrix[0][1]+cf_matrix[1][1])))\n",
    "print(\"FPR: {0:.3f}%\".format(cf_matrix[0][1]/(cf_matrix[0][0]+cf_matrix[1][0])))\n",
    "print(\"AUC&ROC\", roc_auc_score(true_labels, rfc_predictions))\n",
    "print(classification_report(true_labels, rfc_predictions))\n",
    "\n",
    "heatmap = sns.heatmap(cf_matrix, annot=True, cmap='Blues', fmt='g', \n",
    "                      xticklabels=np.unique(true_labels), \n",
    "                      yticklabels=np.unique(true_labels))"
   ]
  },
  {
   "cell_type": "code",
   "execution_count": null,
   "id": "aaaae567",
   "metadata": {},
   "outputs": [],
   "source": []
  }
 ],
 "metadata": {
  "kernelspec": {
   "display_name": "Python 3 (ipykernel)",
   "language": "python",
   "name": "python3"
  },
  "language_info": {
   "codemirror_mode": {
    "name": "ipython",
    "version": 3
   },
   "file_extension": ".py",
   "mimetype": "text/x-python",
   "name": "python",
   "nbconvert_exporter": "python",
   "pygments_lexer": "ipython3",
   "version": "3.8.10"
  }
 },
 "nbformat": 4,
 "nbformat_minor": 5
}
