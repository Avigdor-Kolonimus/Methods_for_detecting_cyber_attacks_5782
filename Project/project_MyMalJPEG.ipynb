{
 "cells": [
  {
   "cell_type": "markdown",
   "id": "9d03591d",
   "metadata": {},
   "source": [
    "# Task -Project MalJPEG"
   ]
  },
  {
   "cell_type": "markdown",
   "id": "d6c95632",
   "metadata": {},
   "source": [
    "## Imports"
   ]
  },
  {
   "cell_type": "code",
   "execution_count": 1,
   "id": "1eda3677",
   "metadata": {},
   "outputs": [],
   "source": [
    "# Imports\n",
    "import numpy as np # Support for large arrays and matrices, along with high-level mathematical functions.\n",
    "import seaborn as sns # Graphing/Plotting module.\n",
    "import pandas as pd # CSV handling with operations on tabular data.\n",
    "import lightgbm as lgb\n",
    "\n",
    "from ast import literal_eval\n",
    "from xgboost import XGBClassifier\n",
    "from sklearn.ensemble import RandomForestClassifier\n",
    "from sklearn.tree import DecisionTreeClassifier\n",
    "from sklearn.datasets import make_classification\n",
    "from sklearn.model_selection import train_test_split\n",
    "from sklearn.metrics import classification_report,confusion_matrix, accuracy_score, roc_auc_score\n",
    "from sklearn.preprocessing import LabelBinarizer, StandardScaler, LabelEncoder\n",
    "\n",
    "from collections import Counter"
   ]
  },
  {
   "cell_type": "code",
   "execution_count": 2,
   "id": "12fe24f1",
   "metadata": {},
   "outputs": [],
   "source": [
    "def checkPredictions(lgb_p, dtc_p, rfc_p, xgb_p, labels):\n",
    "    for idx, _ in enumerate(lgb_p):\n",
    "        if lgb_p[idx]!= labels[idx] or dtc_p[idx]!= labels[idx] or rfc_p[idx]!= labels[idx] or xgb_p[idx]!= labels[idx]:\n",
    "            print(lgb_p[idx], dtc_p[idx], rfc_p[idx], xgb_p[idx], labels[idx])\n",
    "\n",
    "# Post ML\n",
    "def count_voles(votes):\n",
    "    # count the votes for type\n",
    "    vote_count=Counter(votes)\n",
    " \n",
    "    # find the maximum number of votes\n",
    "    max_votes = max(vote_count.values())\n",
    " \n",
    "    # search for type having maximum votes and store in a list\n",
    "    lst=[i for i in vote_count.keys() if vote_count[i]==max_votes]\n",
    " \n",
    "    # sort the list\n",
    "    return max_votes, sorted(lst)[0]\n",
    "\n",
    "def final_predictions(dtc_p, rfc_p, xgb_p):\n",
    "    final_result = []\n",
    "    for idx, _ in enumerate(dtc_p):\n",
    "        if dtc_p[idx] != rfc_p[idx] or dtc_p[idx] != xgb_p[idx] or rfc_p[idx] != xgb_p[idx]:\n",
    "            max_votes, chosen = count_voles([dtc_p[idx], rfc_p[idx], xgb_p[idx]])\n",
    "            if max_votes == 1:\n",
    "                final_result.append(xgb_p[idx])\n",
    "            else:\n",
    "                final_result.append(chosen)\n",
    "        else:\n",
    "            final_result.append(dtc_p[idx])\n",
    "    return final_result"
   ]
  },
  {
   "cell_type": "markdown",
   "id": "8dfbae34",
   "metadata": {},
   "source": [
    "## Read Data and Preprocess it to fit into DeepMAL model"
   ]
  },
  {
   "cell_type": "code",
   "execution_count": 3,
   "id": "fb139a6c",
   "metadata": {
    "scrolled": false
   },
   "outputs": [],
   "source": [
    "# Read Data\n",
    "dataset_type_1 = 'markers_image_my.csv' # other options: 'markers_image.csv' or 'metadata.csv'\n",
    "\n",
    "filepath = f'./datasets/{dataset_type_1}'\n",
    "df_1 = pd.read_csv(filepath)\n",
    "\n",
    "dataset_type_2 = 'metadata.csv' # other options: 'markers_image.csv' or 'metadata.csv'\n",
    "\n",
    "filepath = f'./datasets/{dataset_type_2}'\n",
    "df_2 = pd.read_csv(filepath)\n",
    "label_encoder = LabelEncoder()\n",
    "df_2['Make'] = label_encoder.fit_transform(df_2['Make'])\n",
    "df = df_1.merge(df_2, on='filename', how='left')"
   ]
  },
  {
   "cell_type": "markdown",
   "id": "0263e0c9",
   "metadata": {},
   "source": [
    "## Preprocess the data"
   ]
  },
  {
   "cell_type": "code",
   "execution_count": 4,
   "id": "ff81e23c",
   "metadata": {},
   "outputs": [],
   "source": [
    "label_type = 'label_x' # options: 'label'\n",
    "\n",
    "X = np.stack([\n",
    "    # MalJPEG\n",
    "    df['Marker_EOI_content_after_num'], df['File_markers_num'], df['File_size'],\n",
    "    df['Marker_APP1_size_max'], df['Marker_APP12_size_max'], df['Marker_COM_size_max'], \n",
    "    df['Marker_DHT_num'], df['Marker_DHT_size_max'], df['Marker_DQT_num'], \n",
    "    df['Marker_DQT_size_max'],\n",
    "    # My features\n",
    "    df['Marker_APP_other_size_max'], df['Marker_APP_other_num'], \n",
    "    df['Marker_SOF_size_max'], df['Marker_DRI_num'], df['Marker_RST_num'],\n",
    "    df['Marker_SOS_len'], df['Marker_EOI'],\n",
    "    # My features from metadata\n",
    "    df['ExifInteroperabilityOffset'], df['SceneCaptureType'],  df['MeteringMode'], \n",
    "    df['LightSource'], df['Flash'], df['ColorSpace'],  \n",
    "    df['Make'], df['ExposureProgram'], df['ResolutionUnit'], df['Exception_num'],\n",
    "]).T\n",
    "\n",
    "y = np.stack(df[label_type])\n",
    "\n",
    "scaler_mix = StandardScaler()\n",
    "scaler_mix.fit(X)\n",
    "X = scaler_mix.transform(X)"
   ]
  },
  {
   "cell_type": "code",
   "execution_count": 5,
   "id": "8e3fc72c",
   "metadata": {},
   "outputs": [],
   "source": [
    "X_train, X_test, y_train, y_test = train_test_split(X, y, test_size=0.30, random_state=1666, stratify=y)"
   ]
  },
  {
   "cell_type": "markdown",
   "id": "bcdad88b",
   "metadata": {},
   "source": [
    "## Train/Fit"
   ]
  },
  {
   "cell_type": "code",
   "execution_count": 6,
   "id": "5a07e9c3",
   "metadata": {},
   "outputs": [
    {
     "data": {
      "text/plain": [
       "LGBMClassifier(n_estimators=500, n_jobs=4, random_state=2021)"
      ]
     },
     "execution_count": 6,
     "metadata": {},
     "output_type": "execute_result"
    }
   ],
   "source": [
    "# LGBM classifier\n",
    "lgb_clf = lgb.LGBMClassifier(n_estimators=500, n_jobs=4, random_state=2021,\n",
    "                             boosting_type='gbdt', class_weight=None, colsample_bytree=1.0,\n",
    "                             importance_type='split', learning_rate=0.1, max_depth=-1,\n",
    "                             min_child_samples=20, min_child_weight=0.001, min_split_gain=0.0,\n",
    "                             num_leaves=31, objective=None, reg_alpha=0.0, reg_lambda=0.0,\n",
    "                             subsample=1.0, subsample_for_bin=200000, subsample_freq=0)\n",
    "lgb_clf.fit(X_train, y_train)"
   ]
  },
  {
   "cell_type": "code",
   "execution_count": 7,
   "id": "d12779fa",
   "metadata": {},
   "outputs": [
    {
     "data": {
      "text/plain": [
       "DecisionTreeClassifier(max_depth=30, random_state=1914)"
      ]
     },
     "execution_count": 7,
     "metadata": {},
     "output_type": "execute_result"
    }
   ],
   "source": [
    "# Decision Tree classifier\n",
    "dtc_clf = DecisionTreeClassifier(max_depth=30, random_state=1914)\n",
    "dtc_clf.fit(X_train, y_train)"
   ]
  },
  {
   "cell_type": "code",
   "execution_count": 8,
   "id": "477de890",
   "metadata": {},
   "outputs": [
    {
     "data": {
      "text/plain": [
       "RandomForestClassifier(max_depth=30, n_estimators=500, n_jobs=4,\n",
       "                       random_state=2021)"
      ]
     },
     "execution_count": 8,
     "metadata": {},
     "output_type": "execute_result"
    }
   ],
   "source": [
    "# Random Forest classifier\n",
    "rfc_clf = RandomForestClassifier(n_estimators=500, max_depth=30, n_jobs=4, random_state=2021)\n",
    "rfc_clf.fit(X_train, y_train)"
   ]
  },
  {
   "cell_type": "code",
   "execution_count": 9,
   "id": "a0695b9b",
   "metadata": {},
   "outputs": [
    {
     "data": {
      "text/plain": [
       "XGBClassifier(base_score=0.5, booster='gbtree', colsample_bylevel=1,\n",
       "              colsample_bynode=1, colsample_bytree=1, enable_categorical=False,\n",
       "              eval_metric='mlogloss', gamma=0, gpu_id=-1, importance_type=None,\n",
       "              interaction_constraints='', learning_rate=0.300000012,\n",
       "              max_delta_step=0, max_depth=30, min_child_weight=1, missing=nan,\n",
       "              monotone_constraints='()', n_estimators=500, n_jobs=4,\n",
       "              num_parallel_tree=1, predictor='auto', random_state=1941,\n",
       "              reg_alpha=0, reg_lambda=1, scale_pos_weight=1, subsample=1,\n",
       "              tree_method='exact', use_label_encoder=False,\n",
       "              validate_parameters=1, verbosity=None)"
      ]
     },
     "execution_count": 9,
     "metadata": {},
     "output_type": "execute_result"
    }
   ],
   "source": [
    "# XGB classifier\n",
    "xgb_clf = XGBClassifier(n_estimators=500, max_depth=30, n_jobs=4, eval_metric='mlogloss', \n",
    "                        random_state=1941, use_label_encoder=False)\n",
    "xgb_clf.fit(X_train, y_train)"
   ]
  },
  {
   "cell_type": "markdown",
   "id": "8dfaa6fe",
   "metadata": {},
   "source": [
    "## Test/Predict"
   ]
  },
  {
   "cell_type": "code",
   "execution_count": 10,
   "id": "c56556cd",
   "metadata": {},
   "outputs": [],
   "source": [
    "lgb_predictions = lgb_clf.predict(X_test)\n",
    "dtc_predictions = dtc_clf.predict(X_test)\n",
    "rfc_predictions = rfc_clf.predict(X_test)\n",
    "xgb_predictions = xgb_clf.predict(X_test)\n",
    "    \n",
    "true_labels = y_test"
   ]
  },
  {
   "cell_type": "code",
   "execution_count": 11,
   "id": "ee9dd3ae",
   "metadata": {},
   "outputs": [
    {
     "name": "stdout",
     "output_type": "stream",
     "text": [
      "accuracy score: 99.91%\n",
      "TPR: 0.993\n",
      "FPR: 0.000\n",
      "AUC&ROC 0.9960663280649131\n",
      "              precision    recall  f1-score   support\n",
      "\n",
      "           0       1.00      1.00      1.00      8209\n",
      "           1       0.99      0.99      0.99       542\n",
      "\n",
      "    accuracy                           1.00      8751\n",
      "   macro avg       1.00      1.00      1.00      8751\n",
      "weighted avg       1.00      1.00      1.00      8751\n",
      "\n"
     ]
    },
    {
     "data": {
      "image/png": "[encoded data removed]",
      "text/plain": [
       "<Figure size 432x288 with 2 Axes>"
      ]
     },
     "metadata": {
      "needs_background": "light"
     },
     "output_type": "display_data"
    }
   ],
   "source": [
    "cf_matrix = confusion_matrix(true_labels, lgb_predictions)\n",
    "\n",
    "accuracy = accuracy_score(true_labels, lgb_predictions)\n",
    "print(\"accuracy score: {0:.2f}%\".format(accuracy*100))\n",
    "print(\"TPR: {0:.3f}\".format(cf_matrix[1][1]/(cf_matrix[0][1]+cf_matrix[1][1])))\n",
    "print(\"FPR: {0:.3f}\".format(cf_matrix[0][1]/(cf_matrix[0][0]+cf_matrix[1][0])))\n",
    "print(\"AUC&ROC\", roc_auc_score(true_labels, lgb_predictions))\n",
    "print(classification_report(true_labels, lgb_predictions))\n",
    "\n",
    "heatmap = sns.heatmap(cf_matrix, annot=True, cmap='Blues', fmt='g', \n",
    "                      xticklabels=np.unique(true_labels), \n",
    "                      yticklabels=np.unique(true_labels))"
   ]
  },
  {
   "cell_type": "code",
   "execution_count": 12,
   "id": "7596efe6",
   "metadata": {},
   "outputs": [
    {
     "name": "stdout",
     "output_type": "stream",
     "text": [
      "accuracy score: 99.90%\n",
      "TPR: 0.991\n",
      "FPR: 0.001\n",
      "AUC&ROC 0.9960054193062335\n",
      "              precision    recall  f1-score   support\n",
      "\n",
      "           0       1.00      1.00      1.00      8209\n",
      "           1       0.99      0.99      0.99       542\n",
      "\n",
      "    accuracy                           1.00      8751\n",
      "   macro avg       1.00      1.00      1.00      8751\n",
      "weighted avg       1.00      1.00      1.00      8751\n",
      "\n"
     ]
    },
    {
     "data": {
      "image/png": "[encoded data removed]",
      "text/plain": [
       "<Figure size 432x288 with 2 Axes>"
      ]
     },
     "metadata": {
      "needs_background": "light"
     },
     "output_type": "display_data"
    }
   ],
   "source": [
    "cf_matrix = confusion_matrix(true_labels, dtc_predictions)\n",
    "\n",
    "accuracy = accuracy_score(true_labels, dtc_predictions)\n",
    "print(\"accuracy score: {0:.2f}%\".format(accuracy*100))\n",
    "print(\"TPR: {0:.3f}\".format(cf_matrix[1][1]/(cf_matrix[0][1]+cf_matrix[1][1])))\n",
    "print(\"FPR: {0:.3f}\".format(cf_matrix[0][1]/(cf_matrix[0][0]+cf_matrix[1][0])))\n",
    "print(\"AUC&ROC\", roc_auc_score(true_labels, dtc_predictions))\n",
    "print(classification_report(true_labels, dtc_predictions))\n",
    "\n",
    "heatmap = sns.heatmap(cf_matrix, annot=True, cmap='Blues', fmt='g', \n",
    "                      xticklabels=np.unique(true_labels), \n",
    "                      yticklabels=np.unique(true_labels))"
   ]
  },
  {
   "cell_type": "code",
   "execution_count": 13,
   "id": "d6a003ca",
   "metadata": {},
   "outputs": [
    {
     "name": "stdout",
     "output_type": "stream",
     "text": [
      "accuracy score: 99.91%\n",
      "TPR: 0.993\n",
      "FPR: 0.000\n",
      "AUC&ROC 0.9960663280649131\n",
      "              precision    recall  f1-score   support\n",
      "\n",
      "           0       1.00      1.00      1.00      8209\n",
      "           1       0.99      0.99      0.99       542\n",
      "\n",
      "    accuracy                           1.00      8751\n",
      "   macro avg       1.00      1.00      1.00      8751\n",
      "weighted avg       1.00      1.00      1.00      8751\n",
      "\n"
     ]
    },
    {
     "data": {
      "image/png": "[encoded data removed]",
      "text/plain": [
       "<Figure size 432x288 with 2 Axes>"
      ]
     },
     "metadata": {
      "needs_background": "light"
     },
     "output_type": "display_data"
    }
   ],
   "source": [
    "cf_matrix = confusion_matrix(true_labels, rfc_predictions)\n",
    "\n",
    "accuracy = accuracy_score(true_labels, rfc_predictions)\n",
    "print(\"accuracy score: {0:.2f}%\".format(accuracy*100))\n",
    "print(\"TPR: {0:.3f}\".format(cf_matrix[1][1]/(cf_matrix[0][1]+cf_matrix[1][1])))\n",
    "print(\"FPR: {0:.3f}\".format(cf_matrix[0][1]/(cf_matrix[0][0]+cf_matrix[1][0])))\n",
    "print(\"AUC&ROC\", roc_auc_score(true_labels, rfc_predictions))\n",
    "print(classification_report(true_labels, rfc_predictions))\n",
    "\n",
    "heatmap = sns.heatmap(cf_matrix, annot=True, cmap='Blues', fmt='g', \n",
    "                      xticklabels=np.unique(true_labels), \n",
    "                      yticklabels=np.unique(true_labels))"
   ]
  },
  {
   "cell_type": "code",
   "execution_count": 14,
   "id": "f84e8950",
   "metadata": {},
   "outputs": [
    {
     "name": "stdout",
     "output_type": "stream",
     "text": [
      "accuracy score: 99.91%\n",
      "TPR: 0.993\n",
      "FPR: 0.000\n",
      "AUC&ROC 0.9960663280649131\n",
      "              precision    recall  f1-score   support\n",
      "\n",
      "           0       1.00      1.00      1.00      8209\n",
      "           1       0.99      0.99      0.99       542\n",
      "\n",
      "    accuracy                           1.00      8751\n",
      "   macro avg       1.00      1.00      1.00      8751\n",
      "weighted avg       1.00      1.00      1.00      8751\n",
      "\n"
     ]
    },
    {
     "data": {
      "image/png": "[encoded data removed]",
      "text/plain": [
       "<Figure size 432x288 with 2 Axes>"
      ]
     },
     "metadata": {
      "needs_background": "light"
     },
     "output_type": "display_data"
    }
   ],
   "source": [
    "cf_matrix = confusion_matrix(true_labels, xgb_predictions)\n",
    "\n",
    "accuracy = accuracy_score(true_labels, xgb_predictions)\n",
    "print(\"accuracy score: {0:.2f}%\".format(accuracy*100))\n",
    "print(\"TPR: {0:.3f}\".format(cf_matrix[1][1]/(cf_matrix[0][1]+cf_matrix[1][1])))\n",
    "print(\"FPR: {0:.3f}\".format(cf_matrix[0][1]/(cf_matrix[0][0]+cf_matrix[1][0])))\n",
    "print(\"AUC&ROC\", roc_auc_score(true_labels, xgb_predictions))\n",
    "print(classification_report(true_labels, xgb_predictions))\n",
    "\n",
    "heatmap = sns.heatmap(cf_matrix, annot=True, cmap='Blues', fmt='g', \n",
    "                      xticklabels=np.unique(true_labels), \n",
    "                      yticklabels=np.unique(true_labels))"
   ]
  },
  {
   "cell_type": "code",
   "execution_count": 15,
   "id": "473a715a",
   "metadata": {},
   "outputs": [
    {
     "name": "stdout",
     "output_type": "stream",
     "text": [
      "[803 344 824 611  81 126  37 541  30  47 287  57   4  21  19 912 132  81\n",
      "   5 108  24  35  96 289  11  65  40]\n"
     ]
    }
   ],
   "source": [
    "print(lgb_clf.feature_importances_)"
   ]
  },
  {
   "cell_type": "code",
   "execution_count": 16,
   "id": "87ee684f",
   "metadata": {},
   "outputs": [
    {
     "name": "stdout",
     "output_type": "stream",
     "text": [
      "[6.45801090e-01 5.83006208e-04 1.57595415e-03 2.33279180e-03\n",
      " 9.89209554e-06 1.12824476e-04 0.00000000e+00 7.76286107e-05\n",
      " 0.00000000e+00 0.00000000e+00 2.60023334e-03 6.75177062e-04\n",
      " 4.21985664e-04 0.00000000e+00 0.00000000e+00 3.05480511e-03\n",
      " 7.05030977e-02 2.89753571e-04 0.00000000e+00 1.04924059e-04\n",
      " 0.00000000e+00 0.00000000e+00 0.00000000e+00 2.71856837e-01\n",
      " 0.00000000e+00 0.00000000e+00 0.00000000e+00]\n"
     ]
    }
   ],
   "source": [
    "print(dtc_clf.feature_importances_)"
   ]
  },
  {
   "cell_type": "code",
   "execution_count": 17,
   "id": "ca137c34",
   "metadata": {},
   "outputs": [
    {
     "name": "stdout",
     "output_type": "stream",
     "text": [
      "[0.51622872 0.01754089 0.04632481 0.03451775 0.00273702 0.01210689\n",
      " 0.01466056 0.03254297 0.00799424 0.01140152 0.00846829 0.00596997\n",
      " 0.01173378 0.00062663 0.00234591 0.04087789 0.01911353 0.00308637\n",
      " 0.00084274 0.00192944 0.00110701 0.002327   0.00989787 0.18654423\n",
      " 0.0012148  0.00630189 0.00155728]\n"
     ]
    }
   ],
   "source": [
    "print(rfc_clf.feature_importances_)"
   ]
  },
  {
   "cell_type": "code",
   "execution_count": 18,
   "id": "83d54bc7",
   "metadata": {},
   "outputs": [
    {
     "name": "stdout",
     "output_type": "stream",
     "text": [
      "[3.2902375e-01 1.7885414e-03 6.6879793e-04 1.5842824e-03 2.5027958e-03\n",
      " 2.7741434e-03 1.6197453e-04 1.1862301e-02 2.2787780e-04 5.6780413e-05\n",
      " 1.7296857e-03 4.1974100e-04 0.0000000e+00 7.0187347e-03 4.4496954e-04\n",
      " 1.1030983e-03 3.6765403e-01 2.9183323e-03 9.0786692e-04 1.5106472e-03\n",
      " 5.6160470e-03 1.5956545e-03 1.8653808e-02 2.1928422e-01 9.3831646e-04\n",
      " 1.9184014e-02 3.6956405e-04]\n"
     ]
    }
   ],
   "source": [
    "print(xgb_clf.feature_importances_)"
   ]
  },
  {
   "cell_type": "code",
   "execution_count": 19,
   "id": "6c8d1b4f",
   "metadata": {},
   "outputs": [
    {
     "name": "stdout",
     "output_type": "stream",
     "text": [
      "accuracy score: 99.91%\n",
      "TPR: 0.993\n",
      "FPR: 0.000\n",
      "AUC&ROC 0.9960663280649131\n",
      "              precision    recall  f1-score   support\n",
      "\n",
      "           0       1.00      1.00      1.00      8209\n",
      "           1       0.99      0.99      0.99       542\n",
      "\n",
      "    accuracy                           1.00      8751\n",
      "   macro avg       1.00      1.00      1.00      8751\n",
      "weighted avg       1.00      1.00      1.00      8751\n",
      "\n"
     ]
    },
    {
     "data": {
      "image/png": "[encoded data removed]",
      "text/plain": [
       "<Figure size 432x288 with 2 Axes>"
      ]
     },
     "metadata": {
      "needs_background": "light"
     },
     "output_type": "display_data"
    }
   ],
   "source": [
    "predictions = final_predictions(xgb_predictions, lgb_predictions, rfc_predictions)\n",
    "cf_matrix = confusion_matrix(true_labels, predictions)\n",
    "\n",
    "accuracy = accuracy_score(true_labels, predictions)\n",
    "print(\"accuracy score: {0:.2f}%\".format(accuracy*100))\n",
    "print(\"TPR: {0:.3f}\".format(cf_matrix[1][1]/(cf_matrix[0][1]+cf_matrix[1][1])))\n",
    "print(\"FPR: {0:.3f}\".format(cf_matrix[0][1]/(cf_matrix[0][0]+cf_matrix[1][0])))\n",
    "print(\"AUC&ROC\", roc_auc_score(true_labels, predictions))\n",
    "print(classification_report(true_labels, predictions))\n",
    "\n",
    "heatmap = sns.heatmap(cf_matrix, annot=True, cmap='Blues', fmt='g', \n",
    "                      xticklabels=np.unique(true_labels), \n",
    "                      yticklabels=np.unique(true_labels))"
   ]
  },
  {
   "cell_type": "code",
   "execution_count": 20,
   "id": "16ff3687",
   "metadata": {},
   "outputs": [
    {
     "name": "stdout",
     "output_type": "stream",
     "text": [
      "1 0 0 0 0\n",
      "1 1 1 1 0\n",
      "1 1 1 1 0\n",
      "1 1 1 1 0\n",
      "0 0 0 0 1\n",
      "0 0 0 0 1\n",
      "0 1 1 1 0\n",
      "0 0 0 0 1\n",
      "0 1 0 0 0\n",
      "0 0 0 0 1\n"
     ]
    }
   ],
   "source": [
    "checkPredictions(lgb_predictions, dtc_predictions, rfc_predictions, xgb_predictions, true_labels)"
   ]
  },
  {
   "cell_type": "code",
   "execution_count": null,
   "id": "2acff50f",
   "metadata": {},
   "outputs": [],
   "source": []
  }
 ],
 "metadata": {
  "kernelspec": {
   "display_name": "Python 3 (ipykernel)",
   "language": "python",
   "name": "python3"
  },
  "language_info": {
   "codemirror_mode": {
    "name": "ipython",
    "version": 3
   },
   "file_extension": ".py",
   "mimetype": "text/x-python",
   "name": "python",
   "nbconvert_exporter": "python",
   "pygments_lexer": "ipython3",
   "version": "3.8.10"
  }
 },
 "nbformat": 4,
 "nbformat_minor": 5
}
