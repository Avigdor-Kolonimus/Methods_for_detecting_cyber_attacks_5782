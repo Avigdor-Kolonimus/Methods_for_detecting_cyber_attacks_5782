{
 "cells": [
  {
   "cell_type": "markdown",
   "id": "9d03591d",
   "metadata": {},
   "source": [
    "# Task -Project MalJPEG"
   ]
  },
  {
   "cell_type": "markdown",
   "id": "d6c95632",
   "metadata": {},
   "source": [
    "## Imports"
   ]
  },
  {
   "cell_type": "code",
   "execution_count": 1,
   "id": "1eda3677",
   "metadata": {},
   "outputs": [],
   "source": [
    "# Imports\n",
    "import numpy as np # Support for large arrays and matrices, along with high-level mathematical functions.\n",
    "import seaborn as sns # Graphing/Plotting module.\n",
    "import pandas as pd # CSV handling with operations on tabular data.\n",
    "import lightgbm as lgb\n",
    "\n",
    "from xgboost import XGBClassifier\n",
    "from sklearn.ensemble import RandomForestClassifier\n",
    "from sklearn.tree import DecisionTreeClassifier\n",
    "from sklearn.datasets import make_classification\n",
    "from sklearn.model_selection import train_test_split\n",
    "from sklearn.metrics import classification_report,confusion_matrix, accuracy_score, roc_auc_score\n",
    "from sklearn.preprocessing import LabelBinarizer, StandardScaler"
   ]
  },
  {
   "cell_type": "markdown",
   "id": "8dfbae34",
   "metadata": {},
   "source": [
    "## Read Data and Preprocess it to fit into DeepMAL model"
   ]
  },
  {
   "cell_type": "code",
   "execution_count": 2,
   "id": "fb139a6c",
   "metadata": {
    "scrolled": false
   },
   "outputs": [],
   "source": [
    "# Read Data\n",
    "dataset_type = 'markers_image.csv' # other options: 'markers_image.csv' or 'metadata.csv'\n",
    "\n",
    "filepath = f'./datasets/{dataset_type}'\n",
    "df = pd.read_csv(filepath)"
   ]
  },
  {
   "cell_type": "markdown",
   "id": "0263e0c9",
   "metadata": {},
   "source": [
    "## Preprocess the data"
   ]
  },
  {
   "cell_type": "code",
   "execution_count": 3,
   "id": "ff81e23c",
   "metadata": {},
   "outputs": [],
   "source": [
    "label_type = 'label' # options: 'label'\n",
    "\n",
    "X = np.stack([\n",
    "    df['Marker_EOI_content_after_num'], df['File_markers_num'], df['File_size'],\n",
    "    df['Marker_APP1_size_max'], df['Marker_APP12_size_max'], df['Marker_COM_size_max'], \n",
    "    df['Marker_DHT_num'], df['Marker_DHT_size_max'], df['Marker_DQT_num'], \n",
    "    df['Marker_DQT_size_max']\n",
    "]).T\n",
    "\n",
    "y = np.stack(df[label_type])\n",
    "\n",
    "scaler_mix = StandardScaler()\n",
    "scaler_mix.fit(X)\n",
    "X = scaler_mix.transform(X)"
   ]
  },
  {
   "cell_type": "code",
   "execution_count": 4,
   "id": "8e3fc72c",
   "metadata": {},
   "outputs": [],
   "source": [
    "X_train, X_test, y_train, y_test = train_test_split(X, y, test_size=0.30, random_state=1666, stratify=y)"
   ]
  },
  {
   "cell_type": "markdown",
   "id": "bcdad88b",
   "metadata": {},
   "source": [
    "## Train/Fit"
   ]
  },
  {
   "cell_type": "code",
   "execution_count": 5,
   "id": "5a07e9c3",
   "metadata": {},
   "outputs": [
    {
     "data": {
      "text/plain": [
       "LGBMClassifier(n_estimators=500, n_jobs=4, random_state=2021)"
      ]
     },
     "execution_count": 5,
     "metadata": {},
     "output_type": "execute_result"
    }
   ],
   "source": [
    "# LGBM classifier\n",
    "lgb_clf = lgb.LGBMClassifier(n_estimators=500, n_jobs=4, random_state=2021,\n",
    "                             boosting_type='gbdt', class_weight=None, colsample_bytree=1.0,\n",
    "                             importance_type='split', learning_rate=0.1, max_depth=-1,\n",
    "                             min_child_samples=20, min_child_weight=0.001, min_split_gain=0.0,\n",
    "                             num_leaves=31, objective=None, reg_alpha=0.0, reg_lambda=0.0,\n",
    "                             subsample=1.0, subsample_for_bin=200000, subsample_freq=0)\n",
    "lgb_clf.fit(X_train, y_train)"
   ]
  },
  {
   "cell_type": "code",
   "execution_count": 6,
   "id": "3bf25701",
   "metadata": {},
   "outputs": [
    {
     "data": {
      "text/plain": [
       "DecisionTreeClassifier(max_depth=30, random_state=1914)"
      ]
     },
     "execution_count": 6,
     "metadata": {},
     "output_type": "execute_result"
    }
   ],
   "source": [
    "# Decision Tree classifier\n",
    "dtc_clf = DecisionTreeClassifier(max_depth=30, random_state=1914)\n",
    "dtc_clf.fit(X_train, y_train)"
   ]
  },
  {
   "cell_type": "code",
   "execution_count": 7,
   "id": "e4c9489c",
   "metadata": {},
   "outputs": [
    {
     "data": {
      "text/plain": [
       "RandomForestClassifier(max_depth=30, n_estimators=500, n_jobs=4,\n",
       "                       random_state=2021)"
      ]
     },
     "execution_count": 7,
     "metadata": {},
     "output_type": "execute_result"
    }
   ],
   "source": [
    "# Random Forest classifier\n",
    "rfc_clf = RandomForestClassifier(n_estimators=500, max_depth=30, n_jobs=4, random_state=2021)\n",
    "rfc_clf.fit(X_train, y_train)"
   ]
  },
  {
   "cell_type": "code",
   "execution_count": 8,
   "id": "688d214c",
   "metadata": {},
   "outputs": [
    {
     "data": {
      "text/plain": [
       "XGBClassifier(base_score=0.5, booster='gbtree', colsample_bylevel=1,\n",
       "              colsample_bynode=1, colsample_bytree=1, enable_categorical=False,\n",
       "              eval_metric='mlogloss', gamma=0, gpu_id=-1, importance_type=None,\n",
       "              interaction_constraints='', learning_rate=0.300000012,\n",
       "              max_delta_step=0, max_depth=30, min_child_weight=1, missing=nan,\n",
       "              monotone_constraints='()', n_estimators=500, n_jobs=4,\n",
       "              num_parallel_tree=1, predictor='auto', random_state=1941,\n",
       "              reg_alpha=0, reg_lambda=1, scale_pos_weight=1, subsample=1,\n",
       "              tree_method='exact', use_label_encoder=False,\n",
       "              validate_parameters=1, verbosity=None)"
      ]
     },
     "execution_count": 8,
     "metadata": {},
     "output_type": "execute_result"
    }
   ],
   "source": [
    "# XGB classifier\n",
    "xgb_clf = XGBClassifier(n_estimators=500, max_depth=30, n_jobs=4, eval_metric='mlogloss', \n",
    "                        random_state=1941, use_label_encoder=False)\n",
    "xgb_clf.fit(X_train, y_train)"
   ]
  },
  {
   "cell_type": "markdown",
   "id": "8dfaa6fe",
   "metadata": {},
   "source": [
    "## Test/Predict"
   ]
  },
  {
   "cell_type": "code",
   "execution_count": 9,
   "id": "c56556cd",
   "metadata": {},
   "outputs": [],
   "source": [
    "lgb_predictions = lgb_clf.predict(X_test)\n",
    "dtc_predictions = dtc_clf.predict(X_test)\n",
    "rfc_predictions = rfc_clf.predict(X_test)\n",
    "xgb_predictions = xgb_clf.predict(X_test)\n",
    "    \n",
    "true_labels = y_test"
   ]
  },
  {
   "cell_type": "code",
   "execution_count": 10,
   "id": "900eaeb7",
   "metadata": {},
   "outputs": [
    {
     "name": "stdout",
     "output_type": "stream",
     "text": [
      "accuracy score: 99.26%\n",
      "TPR: 0.949%\n",
      "FPR: 0.003%\n",
      "AUC&ROC 0.963300112962148\n",
      "              precision    recall  f1-score   support\n",
      "\n",
      "           0       1.00      1.00      1.00      8209\n",
      "           1       0.95      0.93      0.94       542\n",
      "\n",
      "    accuracy                           0.99      8751\n",
      "   macro avg       0.97      0.96      0.97      8751\n",
      "weighted avg       0.99      0.99      0.99      8751\n",
      "\n"
     ]
    },
    {
     "data": {
      "image/png": "[encoded data removed]",
      "text/plain": [
       "<Figure size 432x288 with 2 Axes>"
      ]
     },
     "metadata": {
      "needs_background": "light"
     },
     "output_type": "display_data"
    }
   ],
   "source": [
    "cf_matrix = confusion_matrix(true_labels, lgb_predictions)\n",
    "\n",
    "accuracy = accuracy_score(true_labels, lgb_predictions)\n",
    "print(\"accuracy score: {0:.2f}%\".format(accuracy*100))\n",
    "print(\"TPR: {0:.3f}%\".format(cf_matrix[1][1]/(cf_matrix[0][1]+cf_matrix[1][1])))\n",
    "print(\"FPR: {0:.3f}%\".format(cf_matrix[0][1]/(cf_matrix[0][0]+cf_matrix[1][0])))\n",
    "print(\"AUC&ROC\", roc_auc_score(true_labels, lgb_predictions))\n",
    "print(classification_report(true_labels, lgb_predictions))\n",
    "\n",
    "heatmap = sns.heatmap(cf_matrix, annot=True, cmap='Blues', fmt='g', \n",
    "                      xticklabels=np.unique(true_labels), \n",
    "                      yticklabels=np.unique(true_labels))"
   ]
  },
  {
   "cell_type": "code",
   "execution_count": 11,
   "id": "7596efe6",
   "metadata": {},
   "outputs": [
    {
     "name": "stdout",
     "output_type": "stream",
     "text": [
      "accuracy score: 99.13%\n",
      "TPR: 0.922%\n",
      "FPR: 0.005%\n",
      "AUC&ROC 0.9669381189487373\n",
      "              precision    recall  f1-score   support\n",
      "\n",
      "           0       1.00      0.99      1.00      8209\n",
      "           1       0.92      0.94      0.93       542\n",
      "\n",
      "    accuracy                           0.99      8751\n",
      "   macro avg       0.96      0.97      0.96      8751\n",
      "weighted avg       0.99      0.99      0.99      8751\n",
      "\n"
     ]
    },
    {
     "data": {
      "image/png": "[encoded data removed]",
      "text/plain": [
       "<Figure size 432x288 with 2 Axes>"
      ]
     },
     "metadata": {
      "needs_background": "light"
     },
     "output_type": "display_data"
    }
   ],
   "source": [
    "cf_matrix = confusion_matrix(true_labels, dtc_predictions)\n",
    "\n",
    "accuracy = accuracy_score(true_labels, dtc_predictions)\n",
    "print(\"accuracy score: {0:.2f}%\".format(accuracy*100))\n",
    "print(\"TPR: {0:.3f}%\".format(cf_matrix[1][1]/(cf_matrix[0][1]+cf_matrix[1][1])))\n",
    "print(\"FPR: {0:.3f}%\".format(cf_matrix[0][1]/(cf_matrix[0][0]+cf_matrix[1][0])))\n",
    "print(\"AUC&ROC\", roc_auc_score(true_labels, dtc_predictions))\n",
    "print(classification_report(true_labels, dtc_predictions))\n",
    "\n",
    "heatmap = sns.heatmap(cf_matrix, annot=True, cmap='Blues', fmt='g', \n",
    "                      xticklabels=np.unique(true_labels), \n",
    "                      yticklabels=np.unique(true_labels))"
   ]
  },
  {
   "cell_type": "code",
   "execution_count": 12,
   "id": "df63209c",
   "metadata": {},
   "outputs": [
    {
     "name": "stdout",
     "output_type": "stream",
     "text": [
      "accuracy score: 99.38%\n",
      "TPR: 0.969%\n",
      "FPR: 0.002%\n",
      "AUC&ROC 0.9639701093076224\n",
      "              precision    recall  f1-score   support\n",
      "\n",
      "           0       1.00      1.00      1.00      8209\n",
      "           1       0.97      0.93      0.95       542\n",
      "\n",
      "    accuracy                           0.99      8751\n",
      "   macro avg       0.98      0.96      0.97      8751\n",
      "weighted avg       0.99      0.99      0.99      8751\n",
      "\n"
     ]
    },
    {
     "data": {
      "image/png": "[encoded data removed]",
      "text/plain": [
       "<Figure size 432x288 with 2 Axes>"
      ]
     },
     "metadata": {
      "needs_background": "light"
     },
     "output_type": "display_data"
    }
   ],
   "source": [
    "cf_matrix = confusion_matrix(true_labels, rfc_predictions)\n",
    "\n",
    "accuracy = accuracy_score(true_labels, rfc_predictions)\n",
    "print(\"accuracy score: {0:.2f}%\".format(accuracy*100))\n",
    "print(\"TPR: {0:.3f}%\".format(cf_matrix[1][1]/(cf_matrix[0][1]+cf_matrix[1][1])))\n",
    "print(\"FPR: {0:.3f}%\".format(cf_matrix[0][1]/(cf_matrix[0][0]+cf_matrix[1][0])))\n",
    "print(\"AUC&ROC\", roc_auc_score(true_labels, rfc_predictions))\n",
    "print(classification_report(true_labels, rfc_predictions))\n",
    "\n",
    "heatmap = sns.heatmap(cf_matrix, annot=True, cmap='Blues', fmt='g', \n",
    "                      xticklabels=np.unique(true_labels), \n",
    "                      yticklabels=np.unique(true_labels))"
   ]
  },
  {
   "cell_type": "code",
   "execution_count": 13,
   "id": "98a6af96",
   "metadata": {},
   "outputs": [
    {
     "name": "stdout",
     "output_type": "stream",
     "text": [
      "accuracy score: 99.30%\n",
      "TPR: 0.960%\n",
      "FPR: 0.003%\n",
      "AUC&ROC 0.9618205470640405\n",
      "              precision    recall  f1-score   support\n",
      "\n",
      "           0       1.00      1.00      1.00      8209\n",
      "           1       0.96      0.93      0.94       542\n",
      "\n",
      "    accuracy                           0.99      8751\n",
      "   macro avg       0.98      0.96      0.97      8751\n",
      "weighted avg       0.99      0.99      0.99      8751\n",
      "\n"
     ]
    },
    {
     "data": {
      "image/png": "[encoded data removed]",
      "text/plain": [
       "<Figure size 432x288 with 2 Axes>"
      ]
     },
     "metadata": {
      "needs_background": "light"
     },
     "output_type": "display_data"
    }
   ],
   "source": [
    "cf_matrix = confusion_matrix(true_labels, xgb_predictions)\n",
    "\n",
    "accuracy = accuracy_score(true_labels, xgb_predictions)\n",
    "print(\"accuracy score: {0:.2f}%\".format(accuracy*100))\n",
    "print(\"TPR: {0:.3f}%\".format(cf_matrix[1][1]/(cf_matrix[0][1]+cf_matrix[1][1])))\n",
    "print(\"FPR: {0:.3f}%\".format(cf_matrix[0][1]/(cf_matrix[0][0]+cf_matrix[1][0])))\n",
    "print(\"AUC&ROC\", roc_auc_score(true_labels, xgb_predictions))\n",
    "print(classification_report(true_labels, xgb_predictions))\n",
    "\n",
    "heatmap = sns.heatmap(cf_matrix, annot=True, cmap='Blues', fmt='g', \n",
    "                      xticklabels=np.unique(true_labels), \n",
    "                      yticklabels=np.unique(true_labels))"
   ]
  },
  {
   "cell_type": "code",
   "execution_count": 14,
   "id": "6b066380",
   "metadata": {},
   "outputs": [
    {
     "name": "stdout",
     "output_type": "stream",
     "text": [
      "[ 597 3044 3982 4997  105  246  213 1701   57   58]\n"
     ]
    }
   ],
   "source": [
    "print(lgb_clf.feature_importances_)"
   ]
  },
  {
   "cell_type": "code",
   "execution_count": 15,
   "id": "fc7e1cc2",
   "metadata": {},
   "outputs": [
    {
     "name": "stdout",
     "output_type": "stream",
     "text": [
      "[0.64623686 0.02076897 0.0341452  0.21866504 0.0007156  0.00077505\n",
      " 0.00577724 0.07092242 0.00132516 0.00066845]\n"
     ]
    }
   ],
   "source": [
    "print(dtc_clf.feature_importances_)"
   ]
  },
  {
   "cell_type": "code",
   "execution_count": 16,
   "id": "564ed3cc",
   "metadata": {},
   "outputs": [
    {
     "name": "stdout",
     "output_type": "stream",
     "text": [
      "[0.52193334 0.06267819 0.10751634 0.13711565 0.00924703 0.01711668\n",
      " 0.02996262 0.0671051  0.02379629 0.02352875]\n"
     ]
    }
   ],
   "source": [
    "print(rfc_clf.feature_importances_)"
   ]
  },
  {
   "cell_type": "code",
   "execution_count": 17,
   "id": "d182eb74",
   "metadata": {},
   "outputs": [
    {
     "name": "stdout",
     "output_type": "stream",
     "text": [
      "[0.8606652  0.00681743 0.0038633  0.02452504 0.00676591 0.03024476\n",
      " 0.02275542 0.03322048 0.00527386 0.00586861]\n"
     ]
    }
   ],
   "source": [
    "print(xgb_clf.feature_importances_)"
   ]
  },
  {
   "cell_type": "code",
   "execution_count": null,
   "id": "aaaae567",
   "metadata": {},
   "outputs": [],
   "source": []
  }
 ],
 "metadata": {
  "kernelspec": {
   "display_name": "Python 3 (ipykernel)",
   "language": "python",
   "name": "python3"
  },
  "language_info": {
   "codemirror_mode": {
    "name": "ipython",
    "version": 3
   },
   "file_extension": ".py",
   "mimetype": "text/x-python",
   "name": "python",
   "nbconvert_exporter": "python",
   "pygments_lexer": "ipython3",
   "version": "3.8.10"
  }
 },
 "nbformat": 4,
 "nbformat_minor": 5
}
